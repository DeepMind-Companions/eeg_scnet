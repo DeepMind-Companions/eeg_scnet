{
 "cells": [
  {
   "cell_type": "code",
   "execution_count": 1,
   "id": "61f7ca47-ccfc-48c3-a5e3-bff34e0fa704",
   "metadata": {},
   "outputs": [
    {
     "ename": "ModuleNotFoundError",
     "evalue": "No module named 'channels'",
     "output_type": "error",
     "traceback": [
      "\u001b[0;31m---------------------------------------------------------------------------\u001b[0m",
      "\u001b[0;31mModuleNotFoundError\u001b[0m                       Traceback (most recent call last)",
      "Cell \u001b[0;32mIn[1], line 5\u001b[0m\n\u001b[1;32m      3\u001b[0m \u001b[38;5;28;01mimport\u001b[39;00m \u001b[38;5;21;01mmatplotlib\u001b[39;00m\u001b[38;5;21;01m.\u001b[39;00m\u001b[38;5;21;01mpyplot\u001b[39;00m \u001b[38;5;28;01mas\u001b[39;00m \u001b[38;5;21;01mplt\u001b[39;00m\n\u001b[1;32m      4\u001b[0m os\u001b[38;5;241m.\u001b[39mgetcwd()\n\u001b[0;32m----> 5\u001b[0m \u001b[38;5;28;01mfrom\u001b[39;00m \u001b[38;5;21;01mchannels\u001b[39;00m \u001b[38;5;28;01mimport\u001b[39;00m CHANNELS\n\u001b[1;32m      6\u001b[0m datapath \u001b[38;5;241m=\u001b[39m os\u001b[38;5;241m.\u001b[39mpath\u001b[38;5;241m.\u001b[39mrelpath(\u001b[38;5;124m'\u001b[39m\u001b[38;5;124m../data\u001b[39m\u001b[38;5;124m'\u001b[39m)\n",
      "\u001b[0;31mModuleNotFoundError\u001b[0m: No module named 'channels'"
     ]
    }
   ],
   "source": [
    "import os\n",
    "import mne\n",
    "import matplotlib.pyplot as plt\n",
    "os.getcwd()\n",
    "from channels import CHANNELS\n",
    "datapath = os.path.relpath('../data')"
   ]
  },
  {
   "cell_type": "code",
   "execution_count": 2,
   "id": "f8d4b0e8-4941-4edf-90e4-1acb3fb97d8d",
   "metadata": {},
   "outputs": [],
   "source": [
    "import numpy as np\n",
    "\n",
    "def reduce_channels(raw):\n",
    "    \"\"\"\n",
    "        Reducing the number of channels to the 21 channels in use\n",
    "        Takes in raw data in mne format\n",
    "        Returns raw data in mne format with 21 channels only\n",
    "    \"\"\"\n",
    "    return raw.pick(CHANNELS)\n",
    "\n",
    "def clip_data(raw, absclip):\n",
    "    \"\"\"\n",
    "        Responsible for Clipping the data inside a fixed voltage range\n",
    "        Inputs: raw EEG data in MNE format\n",
    "        Outputs: raw EEG data clipped between -absclipx10^-6 and absclipx10^-6\n",
    "    \"\"\"\n",
    "    return raw.apply_function(lambda data: np.clip(data, -0.000001*absclip, 0.000001*absclip))\n",
    "\n",
    "def return_data(file):\n",
    "    \"\"\"\n",
    "        Returns the data in mne format after preprocessing\n",
    "        Inputs: file path\n",
    "        Outputs: raw EEG data in mne format\n",
    "    \"\"\"\n",
    "    # Starts by reading the file into the MNE format\n",
    "    raw = mne.io.read_raw_edf(file, preload=True)\n",
    "\n",
    "    # Continues to reduce the channels to the specific ones\n",
    "    raw = reduce_channels(raw)\n",
    "\n",
    "    # Clipping the data to +-100 microvolts\n",
    "    raw = clip_data(raw, 100)\n",
    "    \n",
    "    # Resampling the data to 100 Hz\n",
    "    raw.resample(100)\n",
    "\n",
    "    # Removing the first 60 seconds of the data\n",
    "    raw.crop(tmin=60, tmax=480)\n",
    "\n",
    "    return raw \n"
   ]
  },
  {
   "cell_type": "code",
   "execution_count": 6,
   "id": "46a68020-8aee-4895-ab9b-ac9b4755ebca",
   "metadata": {},
   "outputs": [],
   "source": [
    "os.path.exists(datapath)\n",
    "\n",
    "traindir = os.path.join(datapath, 'TUH EEG Corpus/edf/train')\n",
    "evaldir = os.path.join(datapath, 'TUH EEG Corpus/edf/eval')\n",
    "\n",
    "normaldir = 'normal/01_tcp_ar'\n",
    "abnormaldir = 'abnormal/01_tcp_ar'\n",
    "\n",
    "os.listdir(traindir)\n",
    "\n",
    "normal_files = os.listdir(os.path.join(traindir, normaldir))\n",
    "abnormal_files = os.listdir(os.path.join(traindir, abnormaldir))"
   ]
  },
  {
   "cell_type": "code",
   "execution_count": 8,
   "id": "ba353d9f-e950-4be9-86c0-ab04c13c35b2",
   "metadata": {},
   "outputs": [
    {
     "name": "stdout",
     "output_type": "stream",
     "text": [
      "Extracting EDF parameters from /home/krakar/uni/tukl/data/TUH EEG Corpus/edf/train/normal/01_tcp_ar/aaaaaore_s001_t000.edf...\n",
      "EDF file detected\n",
      "Setting channel info structure...\n",
      "Creating raw.info structure...\n",
      "Reading 0 ... 396749  =      0.000 ...  1586.996 secs...\n"
     ]
    }
   ],
   "source": [
    "check = return_data(os.path.join(traindir, normaldir, normal_files[0]))"
   ]
  },
  {
   "cell_type": "code",
   "execution_count": null,
   "id": "4dc456b2-ea1a-4dc3-8416-01b6e236f73f",
   "metadata": {},
   "outputs": [],
   "source": []
  }
 ],
 "metadata": {
  "kernelspec": {
   "display_name": "Python 3 (ipykernel)",
   "language": "python",
   "name": "python3"
  },
  "language_info": {
   "codemirror_mode": {
    "name": "ipython",
    "version": 3
   },
   "file_extension": ".py",
   "mimetype": "text/x-python",
   "name": "python",
   "nbconvert_exporter": "python",
   "pygments_lexer": "ipython3",
   "version": "3.11.8"
  }
 },
 "nbformat": 4,
 "nbformat_minor": 5
}
