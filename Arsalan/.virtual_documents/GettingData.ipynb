import warnings
warnings.filterwarnings('ignore')
from ReadingFiles.GetFiles import get_files
from Preprocessing.preprocessing import return_data
import tensorflow as tf
tf.get_logger().setLevel('ERROR')
from tuh import TUHDataset



# START_CELL_MAGIC("time", "")
all_files = get_files("../data")
print("done")
# END_CELL_MAGIC


# START_CELL_MAGIC("time", "")
data0 = return_data(all_files[0][0])
# END_CELL_MAGIC


currDataset = TUHDataset("../data")


dataset = currDataset.create_dataset(20)


dataset


it = iter(dataset)



