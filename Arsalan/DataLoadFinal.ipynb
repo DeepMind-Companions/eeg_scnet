{
 "cells": [
  {
   "cell_type": "code",
   "execution_count": 1,
   "id": "61f7ca47-ccfc-48c3-a5e3-bff34e0fa704",
   "metadata": {},
   "outputs": [],
   "source": [
    "import os\n",
    "import mne\n",
    "import matplotlib.pyplot as plt\n",
    "os.getcwd()\n",
    "from Preprocessing.channels import CHANNELS\n",
    "datapath = os.path.relpath('../data')"
   ]
  },
  {
   "cell_type": "code",
   "execution_count": 2,
   "id": "f8d4b0e8-4941-4edf-90e4-1acb3fb97d8d",
   "metadata": {},
   "outputs": [],
   "source": [
    "import numpy as np\n",
    "\n",
    "def reduce_channels(raw):\n",
    "    \"\"\"\n",
    "        Reducing the number of channels to the 21 channels in use\n",
    "        Takes in raw data in mne format\n",
    "        Returns raw data in mne format with 21 channels only\n",
    "    \"\"\"\n",
    "    return raw.pick(CHANNELS)\n",
    "\n",
    "def clip_data(raw, absclip):\n",
    "    \"\"\"\n",
    "        Responsible for Clipping the data inside a fixed voltage range\n",
    "        Inputs: raw EEG data in MNE format\n",
    "        Outputs: raw EEG data clipped between -absclipx10^-6 and absclipx10^-6\n",
    "    \"\"\"\n",
    "    return raw.apply_function(lambda data: np.clip(data, -0.000001*absclip, 0.000001*absclip))\n",
    "\n",
    "def return_data(file):\n",
    "    \"\"\"\n",
    "        Returns the data in mne format after preprocessing\n",
    "        Inputs: file path\n",
    "        Outputs: raw EEG data in mne format\n",
    "    \"\"\"\n",
    "    # Starts by reading the file into the MNE format\n",
    "    raw = mne.io.read_raw_edf(file, preload=True)\n",
    "\n",
    "    # Continues to reduce the channels to the specific ones\n",
    "    raw = reduce_channels(raw)\n",
    "\n",
    "    # Clipping the data to +-100 microvolts\n",
    "    raw = clip_data(raw, 100)\n",
    "    \n",
    "    # Resampling the data to 100 Hz\n",
    "    raw.resample(100)\n",
    "\n",
    "    # Removing the first 60 seconds of the data\n",
    "    raw.crop(tmin=60, tmax=480)\n",
    "\n",
    "    return raw \n"
   ]
  },
  {
   "cell_type": "code",
   "execution_count": 3,
   "id": "46a68020-8aee-4895-ab9b-ac9b4755ebca",
   "metadata": {},
   "outputs": [],
   "source": [
    "os.path.exists(datapath)\n",
    "\n",
    "traindir = os.path.join(datapath, 'TUH EEG Corpus/edf/train')\n",
    "evaldir = os.path.join(datapath, 'TUH EEG Corpus/edf/eval')\n",
    "\n",
    "normaldir = 'normal/01_tcp_ar'\n",
    "abnormaldir = 'abnormal/01_tcp_ar'\n",
    "\n",
    "os.listdir(traindir)\n",
    "\n",
    "normal_files = os.listdir(os.path.join(traindir, normaldir))\n",
    "abnormal_files = os.listdir(os.path.join(traindir, abnormaldir))"
   ]
  },
  {
   "cell_type": "code",
   "execution_count": 4,
   "id": "ba353d9f-e950-4be9-86c0-ab04c13c35b2",
   "metadata": {},
   "outputs": [
    {
     "name": "stdout",
     "output_type": "stream",
     "text": [
      "Extracting EDF parameters from /home/krakar/uni/tukl/data/TUH EEG Corpus/edf/train/normal/01_tcp_ar/aaaaaore_s001_t000.edf...\n",
      "EDF file detected\n",
      "Setting channel info structure...\n",
      "Creating raw.info structure...\n",
      "Reading 0 ... 396749  =      0.000 ...  1586.996 secs...\n"
     ]
    }
   ],
   "source": [
    "check = return_data(os.path.join(traindir, normaldir, normal_files[0]))"
   ]
  },
  {
   "cell_type": "code",
   "execution_count": 12,
   "id": "4dc456b2-ea1a-4dc3-8416-01b6e236f73f",
   "metadata": {},
   "outputs": [
    {
     "data": {
      "text/plain": [
       "array([[ 3.16031499e-06, -1.92825578e-06, -9.30621178e-06, ...,\n",
       "         1.52046466e-05,  1.45485720e-05,  1.19839698e-05],\n",
       "       [-1.73751556e-05, -2.69140080e-05, -2.74271154e-05, ...,\n",
       "         4.62632134e-05,  3.92219932e-05,  3.45635178e-05],\n",
       "       [ 5.30375096e-07, -4.61135089e-06, -6.08600024e-06, ...,\n",
       "         9.02425551e-07, -2.47910468e-06,  1.52318894e-06],\n",
       "       ...,\n",
       "       [ 1.63417607e-06, -8.74484882e-06, -7.74652138e-06, ...,\n",
       "         1.17569479e-05,  1.00729383e-05,  8.81820003e-06],\n",
       "       [-3.33219920e-06, -2.70251402e-06,  6.75734786e-07, ...,\n",
       "         1.07372261e-06,  1.25660130e-06, -3.36642125e-06],\n",
       "       [ 5.14596180e-06,  4.22434880e-06,  9.63827671e-07, ...,\n",
       "         1.14936595e-05,  9.83103362e-06,  3.40075072e-06]])"
      ]
     },
     "execution_count": 12,
     "metadata": {},
     "output_type": "execute_result"
    }
   ],
   "source": [
    "check.get_data()"
   ]
  },
  {
   "cell_type": "code",
   "execution_count": null,
   "id": "b7f3a53b-1f9e-4d01-80fc-eaf9ec33a73d",
   "metadata": {},
   "outputs": [],
   "source": []
  }
 ],
 "metadata": {
  "kernelspec": {
   "display_name": "Python 3 (ipykernel)",
   "language": "python",
   "name": "python3"
  },
  "language_info": {
   "codemirror_mode": {
    "name": "ipython",
    "version": 3
   },
   "file_extension": ".py",
   "mimetype": "text/x-python",
   "name": "python",
   "nbconvert_exporter": "python",
   "pygments_lexer": "ipython3",
   "version": "3.11.8"
  }
 },
 "nbformat": 4,
 "nbformat_minor": 5
}
