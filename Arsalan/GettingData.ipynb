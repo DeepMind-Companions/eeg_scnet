{
 "cells": [
  {
   "cell_type": "code",
   "execution_count": 17,
   "id": "47d9205b-dea1-43ed-9661-a4513438a222",
   "metadata": {},
   "outputs": [],
   "source": [
    "import warnings\n",
    "warnings.filterwarnings('ignore')\n",
    "from ReadingFiles.GetFiles import get_files\n",
    "from Preprocessing.preprocessing import return_data\n",
    "import tensorflow as tf\n",
    "tf.get_logger().setLevel('ERROR')\n",
    "from tuh import TUHDataset\n"
   ]
  },
  {
   "cell_type": "code",
   "execution_count": 18,
   "id": "67448bb8-472a-4755-bf9f-8288fe6fe574",
   "metadata": {},
   "outputs": [
    {
     "name": "stdout",
     "output_type": "stream",
     "text": [
      "done\n",
      "CPU times: user 578 µs, sys: 4.55 ms, total: 5.13 ms\n",
      "Wall time: 4.85 ms\n"
     ]
    }
   ],
   "source": [
    "%%time\n",
    "all_files = get_files(\"../../data\")\n",
    "print(\"done\")"
   ]
  },
  {
   "cell_type": "code",
   "execution_count": 19,
   "id": "fe25df98-ae1b-4e67-87f4-c9ad9a269ca6",
   "metadata": {},
   "outputs": [
    {
     "name": "stdout",
     "output_type": "stream",
     "text": [
      "CPU times: user 285 ms, sys: 46.6 ms, total: 332 ms\n",
      "Wall time: 333 ms\n"
     ]
    }
   ],
   "source": [
    "%%time\n",
    "data0 = return_data(all_files[0][0])"
   ]
  },
  {
   "cell_type": "code",
   "execution_count": 20,
   "id": "d1e2197b-4a6a-4e35-857b-201623e44142",
   "metadata": {},
   "outputs": [],
   "source": [
    "currDataset = TUHDataset(\"../../data\")"
   ]
  },
  {
   "cell_type": "code",
   "execution_count": 21,
   "id": "72c9b58b-b381-4f9b-a187-4edb02b0f607",
   "metadata": {},
   "outputs": [],
   "source": [
    "dataset = currDataset.create_dataset(2)"
   ]
  },
  {
   "cell_type": "code",
   "execution_count": 22,
   "id": "23a9a1bf-2f80-4352-bcf2-bdd8b884d646",
   "metadata": {},
   "outputs": [
    {
     "data": {
      "text/plain": [
       "<_FlatMapDataset element_spec=(TensorSpec(shape=(21, 42001), dtype=tf.float32, name=None), TensorSpec(shape=(), dtype=tf.bool, name=None))>"
      ]
     },
     "execution_count": 22,
     "metadata": {},
     "output_type": "execute_result"
    }
   ],
   "source": [
    "dataset"
   ]
  },
  {
   "cell_type": "code",
   "execution_count": 23,
   "id": "f7ae068b-cfa9-425a-9d77-3acd419193de",
   "metadata": {},
   "outputs": [],
   "source": [
    "it = iter(dataset)"
   ]
  },
  {
   "cell_type": "code",
   "execution_count": 24,
   "id": "900fd7d3-1cb6-4a18-9479-f791b53702aa",
   "metadata": {},
   "outputs": [
    {
     "name": "stderr",
     "output_type": "stream",
     "text": [
      "2024-03-29 16:10:55.390155: I tensorflow/core/util/port.cc:113] oneDNN custom operations are on. You may see slightly different numerical results due to floating-point round-off errors from different computation orders. To turn them off, set the environment variable `TF_ENABLE_ONEDNN_OPTS=0`.\n",
      "2024-03-29 16:10:55.390289: I external/local_tsl/tsl/cuda/cudart_stub.cc:32] Could not find cuda drivers on your machine, GPU will not be used.\n",
      "2024-03-29 16:10:55.390998: I tensorflow/core/util/port.cc:113] oneDNN custom operations are on. You may see slightly different numerical results due to floating-point round-off errors from different computation orders. To turn them off, set the environment variable `TF_ENABLE_ONEDNN_OPTS=0`.\n",
      "2024-03-29 16:10:55.391111: I external/local_tsl/tsl/cuda/cudart_stub.cc:32] Could not find cuda drivers on your machine, GPU will not be used.\n",
      "2024-03-29 16:10:55.392583: I external/local_tsl/tsl/cuda/cudart_stub.cc:32] Could not find cuda drivers on your machine, GPU will not be used.\n",
      "2024-03-29 16:10:55.393086: I external/local_tsl/tsl/cuda/cudart_stub.cc:32] Could not find cuda drivers on your machine, GPU will not be used.\n",
      "2024-03-29 16:10:55.420788: I tensorflow/core/platform/cpu_feature_guard.cc:210] This TensorFlow binary is optimized to use avai2024-03-29 16:10:55.420788: I tensorflow/core/platform/cpu_feature_guard.cc:210] This TensorFlow binary is optimized to use available CPU instructions in performance-critical operations.\n",
      "To enable the following instructions: AVX2 AVX_VNNI FMA, in other opelable CPU instructions in performance-critical operations.\n",
      "To enable the following instructions: AVX2 AVX_VNNI FMA, in other operations, rebuild TensorFlow with the appropriate compiler flags.\n",
      "rations, rebuild TensorFlow with the appropriate compiler flags.\n",
      "2024-03-29 16:10:55.900590: W tensorflow/compiler/tf2tensorrt/utils/py_utils.cc:38] TF-TRT Warning: Could not find TensorRT\n",
      "2024-03-29 16:10:55.916745: W tensorflow/compiler/tf2tensorrt/utils/py_utils.cc:38] TF-TRT Warning: Could not find TensorRT\n"
     ]
    },
    {
     "data": {
      "text/plain": [
       "(<tf.Tensor: shape=(21, 42001), dtype=float32, numpy=\n",
       " array([[-7.54102439e-06, -1.66449681e-05, -1.78438313e-05, ...,\n",
       "         -1.26441573e-05, -2.01477342e-05, -1.66809041e-05],\n",
       "        [-7.41277699e-06, -1.48989084e-05, -1.53635374e-05, ...,\n",
       "         -1.35287073e-05, -1.86862599e-05, -1.90160481e-05],\n",
       "        [-4.35191077e-06, -1.11342051e-05, -1.26354244e-05, ...,\n",
       "         -6.95899462e-06, -1.22344163e-05, -1.09442599e-05],\n",
       "        ...,\n",
       "        [-2.09492209e-05, -2.63872407e-05, -2.58358086e-05, ...,\n",
       "         -2.62140838e-05, -2.71760109e-05, -2.68402109e-05],\n",
       "        [-1.00322040e-05, -8.01166425e-06, -5.93301456e-06, ...,\n",
       "         -1.51990653e-05, -1.49265206e-05, -1.25903225e-05],\n",
       "        [-6.08919545e-05, -5.90313721e-05, -5.65315459e-05, ...,\n",
       "         -2.90137541e-05, -2.95943191e-05, -3.06763104e-05]], dtype=float32)>,\n",
       " <tf.Tensor: shape=(), dtype=bool, numpy=False>)"
      ]
     },
     "execution_count": 24,
     "metadata": {},
     "output_type": "execute_result"
    }
   ],
   "source": [
    "next(it)"
   ]
  },
  {
   "cell_type": "code",
   "execution_count": 27,
   "id": "702db3af-e0ba-4ffe-a43f-9e2837d1ea62",
   "metadata": {},
   "outputs": [
    {
     "name": "stdout",
     "output_type": "stream",
     "text": [
      "(<tf.Tensor: shape=(21, 42001), dtype=float32, numpy=\n",
      "array([[-7.54102439e-06, -1.66449681e-05, -1.78438313e-05, ...,\n",
      "        -1.26441573e-05, -2.01477342e-05, -1.66809041e-05],\n",
      "       [-7.41277699e-06, -1.48989084e-05, -1.53635374e-05, ...,\n",
      "        -1.35287073e-05, -1.86862599e-05, -1.90160481e-05],\n",
      "       [-4.35191077e-06, -1.11342051e-05, -1.26354244e-05, ...,\n",
      "        -6.95899462e-06, -1.22344163e-05, -1.09442599e-05],\n",
      "       ...,\n",
      "       [-2.09492209e-05, -2.63872407e-05, -2.58358086e-05, ...,\n",
      "        -2.62140838e-05, -2.71760109e-05, -2.68402109e-05],\n",
      "       [-1.00322040e-05, -8.01166425e-06, -5.93301456e-06, ...,\n",
      "        -1.51990653e-05, -1.49265206e-05, -1.25903225e-05],\n",
      "       [-6.08919545e-05, -5.90313721e-05, -5.65315459e-05, ...,\n",
      "        -2.90137541e-05, -2.95943191e-05, -3.06763104e-05]], dtype=float32)>, <tf.Tensor: shape=(), dtype=bool, numpy=False>)\n",
      "(<tf.Tensor: shape=(21, 42001), dtype=float32, numpy=\n",
      "array([[-1.46897264e-05,  5.18213847e-06,  6.32896581e-06, ...,\n",
      "        -3.18742423e-05, -2.82013734e-05, -2.88422725e-05],\n",
      "       [-1.97378577e-05, -5.69864937e-07,  5.42639953e-07, ...,\n",
      "        -2.56948661e-05, -2.24914711e-05, -1.56812021e-05],\n",
      "       [-1.75791174e-05,  6.99719840e-06,  1.13747083e-05, ...,\n",
      "        -1.44419382e-05, -8.76041304e-06, -1.10319143e-05],\n",
      "       ...,\n",
      "       [-2.27633136e-05,  2.17465799e-06,  6.79271625e-06, ...,\n",
      "        -8.45904742e-06, -1.97764484e-06, -3.80195797e-06],\n",
      "       [-1.43410152e-05,  1.09069333e-05,  1.46510865e-05, ...,\n",
      "        -5.20097410e-06, -1.60124114e-06, -4.78910442e-06],\n",
      "       [-3.49120519e-08,  1.54134686e-05,  1.43293082e-05, ...,\n",
      "         2.24098221e-05,  2.15076925e-05,  1.86054731e-05]], dtype=float32)>, <tf.Tensor: shape=(), dtype=bool, numpy=True>)\n",
      "(<tf.Tensor: shape=(21, 42001), dtype=float32, numpy=\n",
      "array([[ 2.32981747e-05,  1.34391112e-05,  1.12877360e-05, ...,\n",
      "         3.12221641e-06,  1.11083900e-05,  3.28296574e-06],\n",
      "       [ 7.55592055e-07,  2.92823074e-06, -6.99961220e-06, ...,\n",
      "         8.96162692e-06,  5.35039590e-06,  4.79115170e-06],\n",
      "       [ 1.63802233e-05,  1.43133693e-05,  1.27860767e-05, ...,\n",
      "         4.92853633e-06, -2.95972268e-06,  3.79796779e-06],\n",
      "       ...,\n",
      "       [-5.46471983e-06, -4.99484759e-06, -5.00975602e-06, ...,\n",
      "         5.33903494e-06,  3.89194611e-06,  5.96098607e-06],\n",
      "       [-6.46892295e-06, -6.37245239e-06, -5.68540918e-06, ...,\n",
      "        -6.04144452e-06, -2.23975758e-06, -3.89093475e-06],\n",
      "       [-1.06666475e-05, -1.31463730e-05, -1.29951877e-05, ...,\n",
      "        -9.00544819e-06, -3.50943083e-06, -6.76785976e-06]], dtype=float32)>, <tf.Tensor: shape=(), dtype=bool, numpy=False>)\n"
     ]
    },
    {
     "name": "stderr",
     "output_type": "stream",
     "text": [
      "2024-03-29 16:13:51.843306: W tensorflow/core/framework/local_rendezvous.cc:404] Local rendezvous is aborting with status: OUT_OF_RANGE: End of sequence\n"
     ]
    }
   ],
   "source": [
    "for each in (dataset.repeat().take(3)):\n",
    "    print(each)"
   ]
  },
  {
   "cell_type": "code",
   "execution_count": 29,
   "id": "a0e29960-d206-4dce-82ee-7af653eb4138",
   "metadata": {},
   "outputs": [
    {
     "data": {
      "text/plain": [
       "<_PaddedBatchDataset element_spec=(TensorSpec(shape=(None, 21, 42001), dtype=tf.float32, name=None), TensorSpec(shape=(None,), dtype=tf.bool, name=None))>"
      ]
     },
     "execution_count": 29,
     "metadata": {},
     "output_type": "execute_result"
    }
   ],
   "source": [
    "dataset.repeat().padded_batch(32)"
   ]
  },
  {
   "cell_type": "code",
   "execution_count": 30,
   "id": "32575a6e-1b19-4d9e-9090-894fcca35d7a",
   "metadata": {},
   "outputs": [
    {
     "data": {
      "text/plain": [
       "<_RepeatDataset element_spec=(TensorSpec(shape=(21, 42001), dtype=tf.float32, name=None), TensorSpec(shape=(), dtype=tf.bool, name=None))>"
      ]
     },
     "execution_count": 30,
     "metadata": {},
     "output_type": "execute_result"
    }
   ],
   "source": [
    "dataset.repeat()"
   ]
  },
  {
   "cell_type": "code",
   "execution_count": null,
   "id": "bf25618b-87c9-4a2a-b9e6-3cdee6d709ec",
   "metadata": {},
   "outputs": [],
   "source": []
  }
 ],
 "metadata": {
  "kernelspec": {
   "display_name": "Python 3 (ipykernel)",
   "language": "python",
   "name": "python3"
  },
  "language_info": {
   "codemirror_mode": {
    "name": "ipython",
    "version": 3
   },
   "file_extension": ".py",
   "mimetype": "text/x-python",
   "name": "python",
   "nbconvert_exporter": "python",
   "pygments_lexer": "ipython3",
   "version": "3.11.8"
  }
 },
 "nbformat": 4,
 "nbformat_minor": 5
}
