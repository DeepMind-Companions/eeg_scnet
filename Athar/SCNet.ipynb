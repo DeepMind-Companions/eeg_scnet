{
 "cells": [
  {
   "cell_type": "code",
   "execution_count": 4,
   "metadata": {},
   "outputs": [],
   "source": [
    "import numpy as np\n",
    "import pandas as pd\n",
    "import os\n",
    "import torch\n",
    "import tensorflow as tf\n",
    "import matplotlib.pyplot as plt\n",
    "import mne\n",
    "%matplotlib inline\n"
   ]
  },
  {
   "cell_type": "code",
   "execution_count": 5,
   "metadata": {},
   "outputs": [],
   "source": [
    "# Set seed for reproducibility\n",
    "np.random.seed(1000)\n",
    "tf.random.set_seed(1000)"
   ]
  },
  {
   "cell_type": "code",
   "execution_count": 6,
   "metadata": {},
   "outputs": [],
   "source": [
    "channels = [\n",
    "    'EEG FP1-REF',\n",
    "    'EEG FP2-REF',\n",
    "    'EEG F3-REF',\n",
    "    'EEG F4-REF',\n",
    "    'EEG F7-REF',\n",
    "    'EEG F8-REF',\n",
    "    'EEG FZ-REF',\n",
    "    'EEG A1-REF',\n",
    "    'EEG A2-REF',\n",
    "    'EEG T3-REF',\n",
    "    'EEG T4-REF',\n",
    "    'EEG C3-REF',\n",
    "    'EEG C4-REF',\n",
    "    'EEG CZ-REF',\n",
    "    'EEG P3-REF',\n",
    "    'EEG P4-REF',\n",
    "    'EEG PZ-REF',\n",
    "    'EEG T5-REF',\n",
    "    'EEG T6-REF',\n",
    "    'EEG O1-REF',\n",
    "    'EEG O2-REF',\n",
    "]"
   ]
  },
  {
   "cell_type": "code",
   "execution_count": 14,
   "metadata": {},
   "outputs": [
    {
     "ename": "FileNotFoundError",
     "evalue": "[Errno 2] No such file or directory: 'train/normal'",
     "output_type": "error",
     "traceback": [
      "\u001b[0;31m---------------------------------------------------------------------------\u001b[0m",
      "\u001b[0;31mFileNotFoundError\u001b[0m                         Traceback (most recent call last)",
      "Cell \u001b[0;32mIn[14], line 3\u001b[0m\n\u001b[1;32m      1\u001b[0m \u001b[38;5;66;03m# Load the dataset\u001b[39;00m\n\u001b[1;32m      2\u001b[0m data_path \u001b[38;5;241m=\u001b[39m \u001b[38;5;124m\"\u001b[39m\u001b[38;5;124mtrain/normal\u001b[39m\u001b[38;5;124m\"\u001b[39m\n\u001b[0;32m----> 3\u001b[0m \u001b[43mos\u001b[49m\u001b[38;5;241;43m.\u001b[39;49m\u001b[43mlistdir\u001b[49m\u001b[43m(\u001b[49m\u001b[43mdata_path\u001b[49m\u001b[43m)\u001b[49m\n\u001b[1;32m      4\u001b[0m raw \u001b[38;5;241m=\u001b[39m mne\u001b[38;5;241m.\u001b[39mio\u001b[38;5;241m.\u001b[39mread_raw_edf(os\u001b[38;5;241m.\u001b[39mpath\u001b[38;5;241m.\u001b[39mjoin(data_path, os\u001b[38;5;241m.\u001b[39mlistdir(data_path)[\u001b[38;5;241m0\u001b[39m]))\n\u001b[1;32m      5\u001b[0m raw \u001b[38;5;241m=\u001b[39m raw\u001b[38;5;241m.\u001b[39mcopy()\u001b[38;5;241m.\u001b[39mpick_channels(channels)\n",
      "\u001b[0;31mFileNotFoundError\u001b[0m: [Errno 2] No such file or directory: 'train/normal'"
     ]
    }
   ],
   "source": [
    "# Load the dataset\n",
    "data_path = \"train/normal\"\n",
    "os.listdir(data_path)\n",
    "raw = mne.io.read_raw_edf(os.path.join(data_path, os.listdir(data_path)[0]))\n",
    "raw = raw.copy().pick_channels(channels)"
   ]
  },
  {
   "cell_type": "code",
   "execution_count": 15,
   "metadata": {},
   "outputs": [
    {
     "ename": "NameError",
     "evalue": "name 'raw' is not defined",
     "output_type": "error",
     "traceback": [
      "\u001b[0;31m---------------------------------------------------------------------------\u001b[0m",
      "\u001b[0;31mNameError\u001b[0m                                 Traceback (most recent call last)",
      "Cell \u001b[0;32mIn[15], line 1\u001b[0m\n\u001b[0;32m----> 1\u001b[0m raw \u001b[38;5;241m=\u001b[39m \u001b[43mraw\u001b[49m\u001b[38;5;241m.\u001b[39mcopy()\u001b[38;5;241m.\u001b[39mresample(\u001b[38;5;241m100\u001b[39m)\n",
      "\u001b[0;31mNameError\u001b[0m: name 'raw' is not defined"
     ]
    }
   ],
   "source": [
    "raw = raw.copy().resample(100)"
   ]
  },
  {
   "cell_type": "code",
   "execution_count": 16,
   "metadata": {},
   "outputs": [
    {
     "ename": "NameError",
     "evalue": "name 'raw' is not defined",
     "output_type": "error",
     "traceback": [
      "\u001b[0;31m---------------------------------------------------------------------------\u001b[0m",
      "\u001b[0;31mNameError\u001b[0m                                 Traceback (most recent call last)",
      "Cell \u001b[0;32mIn[16], line 1\u001b[0m\n\u001b[0;32m----> 1\u001b[0m raw \u001b[38;5;241m=\u001b[39m \u001b[43mraw\u001b[49m\u001b[38;5;241m.\u001b[39mcopy()\u001b[38;5;241m.\u001b[39mcrop(tmin\u001b[38;5;241m=\u001b[39m\u001b[38;5;241m60\u001b[39m, tmax\u001b[38;5;241m=\u001b[39m\u001b[38;5;241m60\u001b[39m\u001b[38;5;241m*\u001b[39m\u001b[38;5;241m7\u001b[39m)\n",
      "\u001b[0;31mNameError\u001b[0m: name 'raw' is not defined"
     ]
    }
   ],
   "source": [
    "raw = raw.copy().crop(tmin=60, tmax=60*7)"
   ]
  },
  {
   "cell_type": "code",
   "execution_count": 17,
   "metadata": {},
   "outputs": [
    {
     "ename": "NameError",
     "evalue": "name 'raw' is not defined",
     "output_type": "error",
     "traceback": [
      "\u001b[0;31m---------------------------------------------------------------------------\u001b[0m",
      "\u001b[0;31mNameError\u001b[0m                                 Traceback (most recent call last)",
      "Cell \u001b[0;32mIn[17], line 1\u001b[0m\n\u001b[0;32m----> 1\u001b[0m \u001b[43mraw\u001b[49m\n",
      "\u001b[0;31mNameError\u001b[0m: name 'raw' is not defined"
     ]
    }
   ],
   "source": [
    "raw"
   ]
  },
  {
   "cell_type": "code",
   "execution_count": 18,
   "metadata": {},
   "outputs": [
    {
     "ename": "NameError",
     "evalue": "name 'raw' is not defined",
     "output_type": "error",
     "traceback": [
      "\u001b[0;31m---------------------------------------------------------------------------\u001b[0m",
      "\u001b[0;31mNameError\u001b[0m                                 Traceback (most recent call last)",
      "Cell \u001b[0;32mIn[18], line 1\u001b[0m\n\u001b[0;32m----> 1\u001b[0m \u001b[43mraw\u001b[49m\u001b[38;5;241m.\u001b[39mplot()\n",
      "\u001b[0;31mNameError\u001b[0m: name 'raw' is not defined"
     ]
    }
   ],
   "source": [
    "raw.plot()"
   ]
  },
  {
   "cell_type": "code",
   "execution_count": 19,
   "metadata": {},
   "outputs": [
    {
     "ename": "NameError",
     "evalue": "name 'raw' is not defined",
     "output_type": "error",
     "traceback": [
      "\u001b[0;31m---------------------------------------------------------------------------\u001b[0m",
      "\u001b[0;31mNameError\u001b[0m                                 Traceback (most recent call last)",
      "Cell \u001b[0;32mIn[19], line 1\u001b[0m\n\u001b[0;32m----> 1\u001b[0m x_train \u001b[38;5;241m=\u001b[39m \u001b[43mraw\u001b[49m\u001b[38;5;241m.\u001b[39mget_data()\n",
      "\u001b[0;31mNameError\u001b[0m: name 'raw' is not defined"
     ]
    }
   ],
   "source": [
    "x_train = raw.get_data()"
   ]
  },
  {
   "cell_type": "code",
   "execution_count": 20,
   "metadata": {},
   "outputs": [
    {
     "ename": "NameError",
     "evalue": "name 'x_train' is not defined",
     "output_type": "error",
     "traceback": [
      "\u001b[0;31m---------------------------------------------------------------------------\u001b[0m",
      "\u001b[0;31mNameError\u001b[0m                                 Traceback (most recent call last)",
      "Cell \u001b[0;32mIn[20], line 1\u001b[0m\n\u001b[0;32m----> 1\u001b[0m x_train \u001b[38;5;241m=\u001b[39m tf\u001b[38;5;241m.\u001b[39mexpand_dims(tf\u001b[38;5;241m.\u001b[39mtranspose(\u001b[43mx_train\u001b[49m), axis \u001b[38;5;241m=\u001b[39m \u001b[38;5;241m0\u001b[39m)\n",
      "\u001b[0;31mNameError\u001b[0m: name 'x_train' is not defined"
     ]
    }
   ],
   "source": [
    "x_train = tf.expand_dims(tf.transpose(x_train), axis = 0)"
   ]
  },
  {
   "cell_type": "code",
   "execution_count": 21,
   "metadata": {},
   "outputs": [
    {
     "ename": "NameError",
     "evalue": "name 'x_train' is not defined",
     "output_type": "error",
     "traceback": [
      "\u001b[0;31m---------------------------------------------------------------------------\u001b[0m",
      "\u001b[0;31mNameError\u001b[0m                                 Traceback (most recent call last)",
      "Cell \u001b[0;32mIn[21], line 1\u001b[0m\n\u001b[0;32m----> 1\u001b[0m \u001b[43mx_train\u001b[49m\u001b[38;5;241m.\u001b[39mshape\n",
      "\u001b[0;31mNameError\u001b[0m: name 'x_train' is not defined"
     ]
    }
   ],
   "source": [
    "x_train.shape"
   ]
  },
  {
   "cell_type": "code",
   "execution_count": 115,
   "metadata": {},
   "outputs": [],
   "source": [
    "# Create an SCNet model using tensorflow\n",
    "from tensorflow.keras.models import Model\n",
    "from tensorflow.keras.layers import Input, Conv1D, MaxPool1D, Flatten, Dense, Dropout, BatchNormalization, AvgPool1D, ReLU, Softmax\n",
    "from tensorflow.keras.layers import GlobalMaxPool1D, GlobalAvgPool1D, Concatenate, SpatialDropout1D, Add\n",
    "from tensorflow.keras.optimizers import Adam\n",
    "from tensorflow.keras.losses import MeanSquaredError\n",
    "\n",
    "class GSPLayer(tf.keras.layers.Layer):\n",
    "    def __init__(self):\n",
    "        super(GSPLayer, self).__init__()\n",
    "    \n",
    "    def call(self, x, gap):\n",
    "        return tf.expand_dims(tf.sqrt(tf.reduce_sum((x - gap) ** 2, axis=1)) / 21, 1)\n",
    "\n",
    "def mffm_block(input):\n",
    "    # Convolutional layer with ReLU activation\n",
    "    x1 = Conv1D(filters=8, kernel_size=5, padding='same', data_format='channels_first')(input)\n",
    "    x1 = BatchNormalization(axis=1)(x1)\n",
    "    x1 = ReLU()(x1)\n",
    "\n",
    "    # Concatenate input and x1 along the channel axis\n",
    "    x2 = Concatenate(axis=1)([input, x1])\n",
    "    x2 = Conv1D(filters=16, kernel_size=5, padding='same', data_format='channels_first')(x2)\n",
    "    x2 = BatchNormalization(axis=1)(x2)\n",
    "    x2 = ReLU()(x2)\n",
    "\n",
    "    # Concatenate input, x1, and x2 along the channel axis\n",
    "    x3 = Concatenate(axis=1)([input, x1, x2])\n",
    "    return x3\n",
    "\n",
    "\n",
    "def scnet(input_shape):\n",
    "    input = Input(shape=input_shape)\n",
    "    # Implementing SILM\n",
    "    gap = GlobalAvgPool1D(data_format='channels_last',keepdims=True)(input)\n",
    "    gmp = GlobalMaxPool1D(data_format='channels_last',keepdims=True)(input)\n",
    "    gsp = GSPLayer()(input, gap)\n",
    "    # Apply dropout on each\n",
    "    gap = Dropout(0.05)(gap)\n",
    "    gmp = Dropout(0.05)(gmp)\n",
    "    gsp = Dropout(0.05)(gsp)\n",
    "    # Concatenate with input\n",
    "    x = Concatenate(axis=1)([input, gap, gmp, gsp])\n",
    "\n",
    "    # Take avg and maxpool\n",
    "    x1 = MaxPool1D(3, data_format='channels_first', strides = 3)(x)\n",
    "    x2 = AvgPool1D(3, data_format='channels_first', strides = 3)(x)\n",
    "    x = Concatenate(axis=2)([x1, x2])\n",
    "    x = BatchNormalization(axis = 1)(x)\n",
    "    \n",
    "    x1 = mffm_block(x)\n",
    "    x2 = mffm_block(x)\n",
    "    x = Add()([x1, x2])\n",
    "    \n",
    "    # Apply spatial dropout\n",
    "    x = SpatialDropout1D(0.5)(x)\n",
    "    x = MaxPool1D(2, strides = 2, data_format='channels_first')(x)\n",
    "    x = Conv1D(32, 3, data_format='channels_first')(x)\n",
    "    x = BatchNormalization(axis=1)(x)\n",
    "    x = ReLU()(x)\n",
    "\n",
    "    x1 = mffm_block(x)\n",
    "    x2 = mffm_block(x)\n",
    "    x = Add()([x1, x2])\n",
    "\n",
    "    x = Conv1D(32, 3, data_format='channels_first')(x)\n",
    "    x = BatchNormalization(axis=1)(x)\n",
    "    x = mffm_block(x)\n",
    "    x = MaxPool1D(2, strides = 2, data_format='channels_first')(x)\n",
    "    x = Conv1D(32, 3, data_format='channels_first')(x)\n",
    "    x = BatchNormalization(axis=1)(x)\n",
    "\n",
    "    # Apply gap\n",
    "    x = GlobalAvgPool1D(data_format='channels_last',keepdims=True)(x)\n",
    "\n",
    "    # Flatten the output\n",
    "    x = Flatten()(x)\n",
    "    x = Dense(2)(x)\n",
    "\n",
    "    # Apply softmax\n",
    "    outputs = Softmax()(x)\n",
    "    return Model(inputs=input, outputs=outputs)"
   ]
  },
  {
   "cell_type": "code",
   "execution_count": 116,
   "metadata": {},
   "outputs": [],
   "source": [
    "model = scnet((21, 42001))\n",
    "\n",
    "model.compile(optimizer=Adam(learning_rate=1e-3), loss='categorical_crossentropy', metrics=['accuracy'])"
   ]
  },
  {
   "cell_type": "code",
   "execution_count": 117,
   "metadata": {},
   "outputs": [
    {
     "name": "stdout",
     "output_type": "stream",
     "text": [
      "Model: \"model_17\"\n",
      "__________________________________________________________________________________________________\n",
      " Layer (type)                Output Shape                 Param #   Connected to                  \n",
      "==================================================================================================\n",
      " input_46 (InputLayer)       [(None, 21, 42001)]          0         []                            \n",
      "                                                                                                  \n",
      " global_average_pooling1d_6  (None, 1, 42001)             0         ['input_46[0][0]']            \n",
      " 2 (GlobalAveragePooling1D)                                                                       \n",
      "                                                                                                  \n",
      " global_max_pooling1d_45 (G  (None, 1, 42001)             0         ['input_46[0][0]']            \n",
      " lobalMaxPooling1D)                                                                               \n",
      "                                                                                                  \n",
      " gsp_layer_42 (GSPLayer)     (None, 1, 42001)             0         ['input_46[0][0]',            \n",
      "                                                                     'global_average_pooling1d_62[\n",
      "                                                                    0][0]']                       \n",
      "                                                                                                  \n",
      " dropout_129 (Dropout)       (None, 1, 42001)             0         ['global_average_pooling1d_62[\n",
      "                                                                    0][0]']                       \n",
      "                                                                                                  \n",
      " dropout_130 (Dropout)       (None, 1, 42001)             0         ['global_max_pooling1d_45[0][0\n",
      "                                                                    ]']                           \n",
      "                                                                                                  \n",
      " dropout_131 (Dropout)       (None, 1, 42001)             0         ['gsp_layer_42[0][0]']        \n",
      "                                                                                                  \n",
      " concatenate_383 (Concatena  (None, 24, 42001)            0         ['input_46[0][0]',            \n",
      " te)                                                                 'dropout_129[0][0]',         \n",
      "                                                                     'dropout_130[0][0]',         \n",
      "                                                                     'dropout_131[0][0]']         \n",
      "                                                                                                  \n",
      " max_pooling1d_94 (MaxPooli  (None, 24, 14000)            0         ['concatenate_383[0][0]']     \n",
      " ng1D)                                                                                            \n",
      "                                                                                                  \n",
      " average_pooling1d_38 (Aver  (None, 24, 14000)            0         ['concatenate_383[0][0]']     \n",
      " agePooling1D)                                                                                    \n",
      "                                                                                                  \n",
      " concatenate_384 (Concatena  (None, 24, 28000)            0         ['max_pooling1d_94[0][0]',    \n",
      " te)                                                                 'average_pooling1d_38[0][0]']\n",
      "                                                                                                  \n",
      " batch_normalization_413 (B  (None, 24, 28000)            96        ['concatenate_384[0][0]']     \n",
      " atchNormalization)                                                                               \n",
      "                                                                                                  \n",
      " conv1d_388 (Conv1D)         (None, 8, 28000)             968       ['batch_normalization_413[0][0\n",
      "                                                                    ]']                           \n",
      "                                                                                                  \n",
      " conv1d_390 (Conv1D)         (None, 8, 28000)             968       ['batch_normalization_413[0][0\n",
      "                                                                    ]']                           \n",
      "                                                                                                  \n",
      " batch_normalization_414 (B  (None, 8, 28000)             32        ['conv1d_388[0][0]']          \n",
      " atchNormalization)                                                                               \n",
      "                                                                                                  \n",
      " batch_normalization_416 (B  (None, 8, 28000)             32        ['conv1d_390[0][0]']          \n",
      " atchNormalization)                                                                               \n",
      "                                                                                                  \n",
      " re_lu_332 (ReLU)            (None, 8, 28000)             0         ['batch_normalization_414[0][0\n",
      "                                                                    ]']                           \n",
      "                                                                                                  \n",
      " re_lu_334 (ReLU)            (None, 8, 28000)             0         ['batch_normalization_416[0][0\n",
      "                                                                    ]']                           \n",
      "                                                                                                  \n",
      " concatenate_385 (Concatena  (None, 32, 28000)            0         ['batch_normalization_413[0][0\n",
      " te)                                                                ]',                           \n",
      "                                                                     're_lu_332[0][0]']           \n",
      "                                                                                                  \n",
      " concatenate_387 (Concatena  (None, 32, 28000)            0         ['batch_normalization_413[0][0\n",
      " te)                                                                ]',                           \n",
      "                                                                     're_lu_334[0][0]']           \n",
      "                                                                                                  \n",
      " conv1d_389 (Conv1D)         (None, 16, 28000)            2576      ['concatenate_385[0][0]']     \n",
      "                                                                                                  \n",
      " conv1d_391 (Conv1D)         (None, 16, 28000)            2576      ['concatenate_387[0][0]']     \n",
      "                                                                                                  \n",
      " batch_normalization_415 (B  (None, 16, 28000)            64        ['conv1d_389[0][0]']          \n",
      " atchNormalization)                                                                               \n",
      "                                                                                                  \n",
      " batch_normalization_417 (B  (None, 16, 28000)            64        ['conv1d_391[0][0]']          \n",
      " atchNormalization)                                                                               \n",
      "                                                                                                  \n",
      " re_lu_333 (ReLU)            (None, 16, 28000)            0         ['batch_normalization_415[0][0\n",
      "                                                                    ]']                           \n",
      "                                                                                                  \n",
      " re_lu_335 (ReLU)            (None, 16, 28000)            0         ['batch_normalization_417[0][0\n",
      "                                                                    ]']                           \n",
      "                                                                                                  \n",
      " concatenate_386 (Concatena  (None, 48, 28000)            0         ['batch_normalization_413[0][0\n",
      " te)                                                                ]',                           \n",
      "                                                                     're_lu_332[0][0]',           \n",
      "                                                                     're_lu_333[0][0]']           \n",
      "                                                                                                  \n",
      " concatenate_388 (Concatena  (None, 48, 28000)            0         ['batch_normalization_413[0][0\n",
      " te)                                                                ]',                           \n",
      "                                                                     're_lu_334[0][0]',           \n",
      "                                                                     're_lu_335[0][0]']           \n",
      "                                                                                                  \n",
      " add_2 (Add)                 (None, 48, 28000)            0         ['concatenate_386[0][0]',     \n",
      "                                                                     'concatenate_388[0][0]']     \n",
      "                                                                                                  \n",
      " spatial_dropout1d_30 (Spat  (None, 48, 28000)            0         ['add_2[0][0]']               \n",
      " ialDropout1D)                                                                                    \n",
      "                                                                                                  \n",
      " max_pooling1d_95 (MaxPooli  (None, 48, 14000)            0         ['spatial_dropout1d_30[0][0]']\n",
      " ng1D)                                                                                            \n",
      "                                                                                                  \n",
      " conv1d_392 (Conv1D)         (None, 32, 13998)            4640      ['max_pooling1d_95[0][0]']    \n",
      "                                                                                                  \n",
      " batch_normalization_418 (B  (None, 32, 13998)            128       ['conv1d_392[0][0]']          \n",
      " atchNormalization)                                                                               \n",
      "                                                                                                  \n",
      " re_lu_336 (ReLU)            (None, 32, 13998)            0         ['batch_normalization_418[0][0\n",
      "                                                                    ]']                           \n",
      "                                                                                                  \n",
      " conv1d_393 (Conv1D)         (None, 8, 13998)             1288      ['re_lu_336[0][0]']           \n",
      "                                                                                                  \n",
      " conv1d_395 (Conv1D)         (None, 8, 13998)             1288      ['re_lu_336[0][0]']           \n",
      "                                                                                                  \n",
      " batch_normalization_419 (B  (None, 8, 13998)             32        ['conv1d_393[0][0]']          \n",
      " atchNormalization)                                                                               \n",
      "                                                                                                  \n",
      " batch_normalization_421 (B  (None, 8, 13998)             32        ['conv1d_395[0][0]']          \n",
      " atchNormalization)                                                                               \n",
      "                                                                                                  \n",
      " re_lu_337 (ReLU)            (None, 8, 13998)             0         ['batch_normalization_419[0][0\n",
      "                                                                    ]']                           \n",
      "                                                                                                  \n",
      " re_lu_339 (ReLU)            (None, 8, 13998)             0         ['batch_normalization_421[0][0\n",
      "                                                                    ]']                           \n",
      "                                                                                                  \n",
      " concatenate_389 (Concatena  (None, 40, 13998)            0         ['re_lu_336[0][0]',           \n",
      " te)                                                                 're_lu_337[0][0]']           \n",
      "                                                                                                  \n",
      " concatenate_391 (Concatena  (None, 40, 13998)            0         ['re_lu_336[0][0]',           \n",
      " te)                                                                 're_lu_339[0][0]']           \n",
      "                                                                                                  \n",
      " conv1d_394 (Conv1D)         (None, 16, 13998)            3216      ['concatenate_389[0][0]']     \n",
      "                                                                                                  \n",
      " conv1d_396 (Conv1D)         (None, 16, 13998)            3216      ['concatenate_391[0][0]']     \n",
      "                                                                                                  \n",
      " batch_normalization_420 (B  (None, 16, 13998)            64        ['conv1d_394[0][0]']          \n",
      " atchNormalization)                                                                               \n",
      "                                                                                                  \n",
      " batch_normalization_422 (B  (None, 16, 13998)            64        ['conv1d_396[0][0]']          \n",
      " atchNormalization)                                                                               \n",
      "                                                                                                  \n",
      " re_lu_338 (ReLU)            (None, 16, 13998)            0         ['batch_normalization_420[0][0\n",
      "                                                                    ]']                           \n",
      "                                                                                                  \n",
      " re_lu_340 (ReLU)            (None, 16, 13998)            0         ['batch_normalization_422[0][0\n",
      "                                                                    ]']                           \n",
      "                                                                                                  \n",
      " concatenate_390 (Concatena  (None, 56, 13998)            0         ['re_lu_336[0][0]',           \n",
      " te)                                                                 're_lu_337[0][0]',           \n",
      "                                                                     're_lu_338[0][0]']           \n",
      "                                                                                                  \n",
      " concatenate_392 (Concatena  (None, 56, 13998)            0         ['re_lu_336[0][0]',           \n",
      " te)                                                                 're_lu_339[0][0]',           \n",
      "                                                                     're_lu_340[0][0]']           \n",
      "                                                                                                  \n",
      " add_3 (Add)                 (None, 56, 13998)            0         ['concatenate_390[0][0]',     \n",
      "                                                                     'concatenate_392[0][0]']     \n",
      "                                                                                                  \n",
      " conv1d_397 (Conv1D)         (None, 32, 13996)            5408      ['add_3[0][0]']               \n",
      "                                                                                                  \n",
      " batch_normalization_423 (B  (None, 32, 13996)            128       ['conv1d_397[0][0]']          \n",
      " atchNormalization)                                                                               \n",
      "                                                                                                  \n",
      " conv1d_398 (Conv1D)         (None, 8, 13996)             1288      ['batch_normalization_423[0][0\n",
      "                                                                    ]']                           \n",
      "                                                                                                  \n",
      " batch_normalization_424 (B  (None, 8, 13996)             32        ['conv1d_398[0][0]']          \n",
      " atchNormalization)                                                                               \n",
      "                                                                                                  \n",
      " re_lu_341 (ReLU)            (None, 8, 13996)             0         ['batch_normalization_424[0][0\n",
      "                                                                    ]']                           \n",
      "                                                                                                  \n",
      " concatenate_393 (Concatena  (None, 40, 13996)            0         ['batch_normalization_423[0][0\n",
      " te)                                                                ]',                           \n",
      "                                                                     're_lu_341[0][0]']           \n",
      "                                                                                                  \n",
      " conv1d_399 (Conv1D)         (None, 16, 13996)            3216      ['concatenate_393[0][0]']     \n",
      "                                                                                                  \n",
      " batch_normalization_425 (B  (None, 16, 13996)            64        ['conv1d_399[0][0]']          \n",
      " atchNormalization)                                                                               \n",
      "                                                                                                  \n",
      " re_lu_342 (ReLU)            (None, 16, 13996)            0         ['batch_normalization_425[0][0\n",
      "                                                                    ]']                           \n",
      "                                                                                                  \n",
      " concatenate_394 (Concatena  (None, 56, 13996)            0         ['batch_normalization_423[0][0\n",
      " te)                                                                ]',                           \n",
      "                                                                     're_lu_341[0][0]',           \n",
      "                                                                     're_lu_342[0][0]']           \n",
      "                                                                                                  \n",
      " max_pooling1d_96 (MaxPooli  (None, 56, 6998)             0         ['concatenate_394[0][0]']     \n",
      " ng1D)                                                                                            \n",
      "                                                                                                  \n",
      " conv1d_400 (Conv1D)         (None, 32, 6996)             5408      ['max_pooling1d_96[0][0]']    \n",
      "                                                                                                  \n",
      " batch_normalization_426 (B  (None, 32, 6996)             128       ['conv1d_400[0][0]']          \n",
      " atchNormalization)                                                                               \n",
      "                                                                                                  \n",
      " global_average_pooling1d_6  (None, 1, 6996)              0         ['batch_normalization_426[0][0\n",
      " 3 (GlobalAveragePooling1D)                                         ]']                           \n",
      "                                                                                                  \n",
      " flatten_17 (Flatten)        (None, 6996)                 0         ['global_average_pooling1d_63[\n",
      "                                                                    0][0]']                       \n",
      "                                                                                                  \n",
      " dense_17 (Dense)            (None, 2)                    13994     ['flatten_17[0][0]']          \n",
      "                                                                                                  \n",
      " softmax_17 (Softmax)        (None, 2)                    0         ['dense_17[0][0]']            \n",
      "                                                                                                  \n",
      "==================================================================================================\n",
      "Total params: 51010 (199.26 KB)\n",
      "Trainable params: 50530 (197.38 KB)\n",
      "Non-trainable params: 480 (1.88 KB)\n",
      "__________________________________________________________________________________________________\n"
     ]
    }
   ],
   "source": [
    "model.summary()"
   ]
  },
  {
   "cell_type": "code",
   "execution_count": 24,
   "metadata": {},
   "outputs": [],
   "source": [
    "y_train = np.array([0])\n",
    "y_train = tf.one_hot(y_train, 2)"
   ]
  },
  {
   "cell_type": "code",
   "execution_count": 25,
   "metadata": {},
   "outputs": [
    {
     "ename": "NameError",
     "evalue": "name 'x_train' is not defined",
     "output_type": "error",
     "traceback": [
      "\u001b[0;31m---------------------------------------------------------------------------\u001b[0m",
      "\u001b[0;31mNameError\u001b[0m                                 Traceback (most recent call last)",
      "Cell \u001b[0;32mIn[25], line 1\u001b[0m\n\u001b[0;32m----> 1\u001b[0m model\u001b[38;5;241m.\u001b[39mfit(\u001b[43mx_train\u001b[49m, y_train, epochs\u001b[38;5;241m=\u001b[39m\u001b[38;5;241m10\u001b[39m)\n",
      "\u001b[0;31mNameError\u001b[0m: name 'x_train' is not defined"
     ]
    }
   ],
   "source": [
    "model.fit(x_train, y_train, epochs=10)"
   ]
  },
  {
   "cell_type": "code",
   "execution_count": null,
   "metadata": {},
   "outputs": [],
   "source": []
  }
 ],
 "metadata": {
  "kernelspec": {
   "display_name": "Python 3",
   "language": "python",
   "name": "python3"
  },
  "language_info": {
   "codemirror_mode": {
    "name": "ipython",
    "version": 3
   },
   "file_extension": ".py",
   "mimetype": "text/x-python",
   "name": "python",
   "nbconvert_exporter": "python",
   "pygments_lexer": "ipython3",
   "version": "3.10.12"
  }
 },
 "nbformat": 4,
 "nbformat_minor": 2
}
